{
 "cells": [
  {
   "cell_type": "code",
   "execution_count": 24,
   "metadata": {},
   "outputs": [],
   "source": [
    "import glob\n",
    "import argparse\n",
    "import os\n",
    "import argparse\n",
    "import json\n",
    "import xml.etree.ElementTree as ET\n",
    "import shutil\n",
    "\n",
    "def glob_name_to_txt(root_folder,save_folder=''):\n",
    "    with open(f'/ids.txt', \"w\") as axlspd:\n",
    "        for f in glob.glob(f\"{root_folder}/*.png\"):\n",
    "            fpath, fname = os.path.split(f)\n",
    "            rname, extname = os.path.splitext(fname)\n",
    "            dirtup = (f, rname)\n",
    "            axlspd.write(rname+'\\n')\n",
    "def glob_xml_then_move(root_folder,save_folder='save_xml'):\n",
    "    xml_paths = glob.glob(f\"{root_folder}/*.xml\")\n",
    "    for xml_path in xml_paths:\n",
    "        shutil.copy(xml_path,save_folder)\n"
   ]
  },
  {
   "cell_type": "code",
   "execution_count": 25,
   "metadata": {},
   "outputs": [],
   "source": [
    "glob_name_to_txt('D:\\\\sample_crop_back_data\\\\voc_datasets','')"
   ]
  },
  {
   "cell_type": "code",
   "execution_count": 18,
   "metadata": {},
   "outputs": [],
   "source": [
    "glob_xml_then_move('D:\\\\sample_crop_back_data\\\\voc_datasets','sample/save_xml')"
   ]
  },
  {
   "cell_type": "code",
   "execution_count": 5,
   "metadata": {},
   "outputs": [
    {
     "data": {
      "text/plain": [
       "'d:\\\\voc2coco\\\\voc2coco'"
      ]
     },
     "execution_count": 5,
     "metadata": {},
     "output_type": "execute_result"
    }
   ],
   "source": [
    "%pwd"
   ]
  }
 ],
 "metadata": {
  "interpreter": {
   "hash": "b0f7ce1f31b2a9ac80be891cf6798b1d595de33053c9644a3d49d04e3998f96c"
  },
  "kernelspec": {
   "display_name": "Python 3.8.13 ('graduate')",
   "language": "python",
   "name": "python3"
  },
  "language_info": {
   "codemirror_mode": {
    "name": "ipython",
    "version": 3
   },
   "file_extension": ".py",
   "mimetype": "text/x-python",
   "name": "python",
   "nbconvert_exporter": "python",
   "pygments_lexer": "ipython3",
   "version": "3.8.13"
  },
  "orig_nbformat": 4
 },
 "nbformat": 4,
 "nbformat_minor": 2
}
